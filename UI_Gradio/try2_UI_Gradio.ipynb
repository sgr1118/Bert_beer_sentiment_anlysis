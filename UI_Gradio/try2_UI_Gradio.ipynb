{
 "cells": [
  {
   "cell_type": "markdown",
   "metadata": {},
   "source": [
    "## Gradio - ML작업 UI"
   ]
  },
  {
   "cell_type": "markdown",
   "metadata": {},
   "source": [
    "---"
   ]
  },
  {
   "cell_type": "markdown",
   "metadata": {},
   "source": [
    "## ■ 유사 키워드 맵핑 결과 감정별 출력"
   ]
  },
  {
   "cell_type": "code",
   "execution_count": 3,
   "metadata": {},
   "outputs": [
    {
     "name": "stdout",
     "output_type": "stream",
     "text": [
      "c:\\Users\\Gyeom\\OneDrive - 한국항공대학교\\바탕 화면\\머신러닝\\프로젝트\\맥주 측면 감정 분석\\Beer_Sentiment_analysis\\Data\n"
     ]
    }
   ],
   "source": [
    "cd \"./Beer_Sentiment_analysis/Data\""
   ]
  },
  {
   "cell_type": "code",
   "execution_count": null,
   "metadata": {},
   "outputs": [],
   "source": []
  },
  {
   "cell_type": "code",
   "execution_count": null,
   "metadata": {},
   "outputs": [],
   "source": [
    "from collections import defaultdict\n",
    "import spacy\n",
    "\n",
    "nlp = spacy.load('en_core_web_lg')\n",
    "\n",
    "def merge_similar_keywords(dataframe, similarity_threshold=0.7):\n",
    "    # (csv파일을 읽은 데이터프레임일 때) 문자열로 표현된 리스트를 실제 리스트로 변환\n",
    "    dataframe['Keywords_List'] = dataframe['Keywords'].apply(lambda x: ast.literal_eval(x))\n",
    "    \n",
    "    # 모든 키워드 리스트를 하나로 합침\n",
    "    all_keywords = dataframe['Keywords'].sum()\n",
    "\n",
    "    initial_counts = defaultdict(int)\n",
    "    for keyword in all_keywords:\n",
    "        initial_counts[keyword] += 1\n",
    "\n",
    "    merged_keywords = defaultdict(int)\n",
    "    for keyword, count in initial_counts.items():\n",
    "        doc1 = nlp(keyword)\n",
    "\n",
    "        merged_or_found_similar = False\n",
    "        for merged_keyword in list(merged_keywords):\n",
    "            # 키워드가 일치하는 경우 바로 빈도 수를 올림\n",
    "            if keyword == merged_keyword:\n",
    "                merged_keywords[merged_keyword] += count\n",
    "                merged_or_found_similar = True\n",
    "                break\n",
    "\n",
    "            doc2 = nlp(merged_keyword)\n",
    "            if doc1.similarity(doc2) > similarity_threshold:\n",
    "                merged_keywords[merged_keyword] += count\n",
    "                merged_or_found_similar = True\n",
    "                break\n",
    "\n",
    "        if not merged_or_found_similar:\n",
    "            merged_keywords[keyword] = count\n",
    "\n",
    "    # (csv파일을 읽은 데이터프레임일 때) 변환된 'Keywords_List' 컬럼 삭제\n",
    "    dataframe.drop('Keywords_List', axis=1, inplace=True)\n",
    "\n",
    "    # 빈도 수 차등에 따라 정렬한 결과를 반환(내림차순)\n",
    "    sorted_merged_keywords = sorted(merged_keywords.items(), key=lambda x: x[1], reverse=True)\n",
    "    return dict(sorted_merged_keywords)\n"
   ]
  },
  {
   "cell_type": "markdown",
   "metadata": {},
   "source": [
    "### - 시도1_집계만 출력"
   ]
  },
  {
   "cell_type": "code",
   "execution_count": null,
   "metadata": {},
   "outputs": [],
   "source": [
    "import pandas as pd\n",
    "import gradio as gr\n",
    "\n",
    "pre_apply_beer_Wired_iStout = pd.read_csv('pp_selected_reviews_JJ_NN.csv')\n",
    "df_po = pre_apply_beer_Wired_iStout[pre_apply_beer_Wired_iStout['MultinomialNB_label'] == \"Positive\"]\n",
    "df_po.reset_index(drop=True, inplace=True)\n",
    "df_ne = pre_apply_beer_Wired_iStout[pre_apply_beer_Wired_iStout['MultinomialNB_label'] == \"Negative\"]\n",
    "df_ne.reset_index(drop=True, inplace=True)\n",
    "\n",
    "def show_keywords(beer_name, sentiment):\n",
    "    if sentiment == 'Positive': df = df_po\n",
    "    else: df = df_ne\n",
    "\n",
    "    keywords, _ = merge_similar_keywords(df[df['Beer_name'] == beer_name])\n",
    "\n",
    "    return \"\\n\".join([f\"{k}: {v}\" for k, v in keywords.items()])\n",
    "\n",
    "beer_names = pre_apply_beer_Wired_iStout['Beer_name'].unique()\n",
    "sentiments = [\"Positive\", \"Negative\"]\n",
    "\n",
    "interface = gr.Interface(\n",
    "    show_keywords,\n",
    "    [\n",
    "      gr.Dropdown(beer_names, label=\"Beer_name\", info=\"Choose the beer you want to see the summary keyword.\"),\n",
    "      gr.Dropdown(choices=sentiments, label=\"Sentiment\", info=\"Choose Positive or Negative sentiment.\"),\n",
    "    ],\n",
    "    outputs=\"text\",\n",
    ")\n",
    "\n",
    "interface.launch()\n"
   ]
  }
 ],
 "metadata": {
  "kernelspec": {
   "display_name": "ui_python",
   "language": "python",
   "name": "ui_python"
  },
  "language_info": {
   "codemirror_mode": {
    "name": "ipython",
    "version": 3
   },
   "file_extension": ".py",
   "mimetype": "text/x-python",
   "name": "python",
   "nbconvert_exporter": "python",
   "pygments_lexer": "ipython3",
   "version": "3.10.9"
  },
  "orig_nbformat": 4
 },
 "nbformat": 4,
 "nbformat_minor": 2
}
